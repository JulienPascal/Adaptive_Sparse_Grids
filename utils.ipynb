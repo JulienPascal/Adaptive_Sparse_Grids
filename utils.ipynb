{
 "cells": [
  {
   "cell_type": "markdown",
   "id": "48a617a0",
   "metadata": {},
   "source": [
    "# Functions and Types for notebook on sparse grids"
   ]
  },
  {
   "cell_type": "code",
   "execution_count": 1,
   "id": "2774887f",
   "metadata": {},
   "outputs": [],
   "source": [
    "using Tasmanian\n",
    "using Random\n",
    "using Distributions\n",
    "using IterTools\n",
    "using DataFrames\n",
    "using NBInclude"
   ]
  },
  {
   "cell_type": "markdown",
   "id": "874d3f1f",
   "metadata": {},
   "source": [
    "### Types"
   ]
  },
  {
   "cell_type": "code",
   "execution_count": 2,
   "id": "6f4ccc34",
   "metadata": {},
   "outputs": [
    {
     "data": {
      "text/plain": [
       "Params"
      ]
     },
     "execution_count": 2,
     "metadata": {},
     "output_type": "execute_result"
    }
   ],
   "source": [
    "using Parameters\n",
    "using Expectations\n",
    "using Interpolations\n",
    "using ProgressMeter\n",
    "using LinearAlgebra\n",
    "using LaTeXStrings\n",
    "using BenchmarkTools\n",
    "using StatsPlots\n",
    "using Statistics\n",
    "\n",
    "@with_kw struct Params\n",
    "    x_min::Float64 = 0.0\n",
    "    x_max::Float64 = 1.0\n",
    "    y_min::Float64 = 0.0\n",
    "    y_max::Float64 = 1.0\n",
    "    nx::Int64 = 21 # grid points for human capital\n",
    "    ny::Int64 = 21 # grid points for firm productivity\n",
    "    nz = 10 #number of draws for the z dimension\n",
    "    dt::Float64 = 1.0/52.0 # length of a period in years\n",
    "    r::Float64 = (1.0 + 0.05)^dt - 1.0 # interest rate\n",
    "    delta::Float64 = 0.0127012273 #job destrution rate\n",
    "    epsilon::Float64 = 0.001 # distance to stay away from bounds of the interval\n",
    "    x_grid = collect(range(x_min + epsilon, x_max - epsilon, length = nx))\n",
    "    y_grid = collect(range(y_min + epsilon, y_max - epsilon, length = nx))\n",
    "    # log of aggregate shocks are AR(1):\n",
    "    # ln(zt) = rho*ln(zt-1) + e_k\n",
    "    # with e_k distributed as N(0,psi^2)\n",
    "    # and psi = sigma*sqrt(1-rho²)\n",
    "    rho::Float64 = 0.9997369438 #persitence parameter\n",
    "    sigma::Float64 = 0.0714488990 #volatility parameter\n",
    "    psi::Float64 = sigma*sqrt(1.0 - rho^2) #std dev. of innovation term\n",
    "    distrib_innovation::Any = Normal(0, psi) #0 mean and std = psi\n",
    "    nb_nodes::Int64 = 10 #number nodes for the expectation\n",
    "    E::Any = expectation(distrib_innovation, n = nb_nodes) #expectation operator\n",
    "    nodes_E = Expectations.nodes(E) #nodes for expectation\n",
    "    weigths_E = weights(E) #weights for expectation\n",
    "    f0::Float64     =    6.0873503685 # market production parameter\n",
    "    f1::Float64     =    0.0025488557 # market production parameter \n",
    "    f2::Float64     =    2.0529182143 # market production parameter\n",
    "    f3::Float64     =    -0.1400252578 # market production parameter\n",
    "    f4::Float64     =    8.0349795180 # market production parameter\n",
    "    f5::Float64     =    -1.9072145913 # market production parameter\n",
    "    f6::Float64     =    6.5961298483 # market production parameter\n",
    "    b0::Float64     = 0.7 # home production parameter\n",
    "    p_xyz::Function = (x, y, z) -> f0*z*(f1 + f2*x + f3*y + f4*(x^2) + f5*(y^2) + f6*x*y)*dt #value of market production\n",
    "    b_x::Function = (x) -> b0*p_xyz(x, x, 1.0) #value of market production\n",
    "    s_xyz::Function = (x,y,z) -> p_xyz(x,y,z) - b_x(x) #surplus\n",
    "    # VECTORIZED FUNCTIONS\n",
    "    # input of the form:\n",
    "    # row: observation\n",
    "    # column: dimension\n",
    "    p_xyz_v::Function = x -> f0.*x[:,3].*(f1 .+ f2.*x[:,1] .+ f3.*x[:,2] .+ f4.*(x[:,1].^2) .+ f5.*(x[:,2].^2) .+ f6.*x[:,1].*x[:,2]).*dt #value of market production\n",
    "    b_x_v::Function = x -> b0.*f0.*1.0.*(f1 .+ f2.*x[:,1] .+ f3.*x[:,1] .+ f4.*(x[:,1].^2) .+ f5.*(x[:,1].^2) .+ f6.*x[:,1].*x[:,1]).*dt #value of market production\n",
    "    s_xyz_v::Function = x -> p_xyz_v(x) .- b_x_v(x) #surplus\n",
    "    # VECTORIZED FUNCTIONS\n",
    "    # input of the form:\n",
    "    # row: dimension\n",
    "    # column: observation\n",
    "    p_xyz_r::Function = x -> f0.*x[3, :].*(f1 .+ f2.*x[1, :] .+ f3.*x[2,:] .+ f4.*(x[1,:].^2) .+ f5.*(x[2,:].^2) .+ f6.*x[1,:].*x[2,:]).*dt #value of market production\n",
    "    b_x_r::Function = x -> b0.*f0.*1.0.*(f1 .+ f2.*x[1,:] .+ f3.*x[1,:] .+ f4.*(x[1,:].^2) .+ f5.*(x[1,:].^2) .+ f6.*x[1,:].*x[1,:]).*dt #value of market production\n",
    "    s_xyz_r::Function = x -> p_xyz_r(x) .- b_x_r(x) #surplus\n",
    "    # GRIDS\n",
    "    d_log_normal = LogNormal(0.0, sigma)\n",
    "    perc_z = 0.05\n",
    "    z_min = quantile(d_log_normal, perc_z)\n",
    "    z_max = quantile(d_log_normal, 1.0 - perc_z)\n",
    "    lower_bound = [x_min, y_min, z_min]\n",
    "    upper_bound = [x_max, y_max, z_max]\n",
    "    z_grid = collect(range(z_min, z_max, length=nz))\n",
    "    nodes_xyz = (x_grid, y_grid, z_grid, ) #for package Interpolations\n",
    "\n",
    "end"
   ]
  },
  {
   "cell_type": "code",
   "execution_count": 3,
   "id": "353b4920",
   "metadata": {},
   "outputs": [
    {
     "data": {
      "text/plain": [
       "solve_VFI (generic function with 1 method)"
      ]
     },
     "execution_count": 3,
     "metadata": {},
     "output_type": "execute_result"
    }
   ],
   "source": [
    "function solve_VFI(p::Params; max_iter::Int = 1000, tol::Real = 10^-8, show_every::Int=max_iter)\n",
    "    \n",
    "    V_old = zeros(p.nx, p.ny, p.nz)\n",
    "    V_new = zeros(p.nx, p.ny, p.nz)\n",
    "\n",
    "    # Initial guess\n",
    "    for (zIndex, zValue) in enumerate(p.z_grid)\n",
    "    for (yIndex, yValue) in enumerate(p.y_grid)\n",
    "        for (xIndex, xValue) in enumerate(p.x_grid)\n",
    "            V_old[xIndex, yIndex, zIndex] = p.s_xyz(xValue, yValue, zValue) + ((1.0 - p.delta)/(1.0 + p.r))*max(0.0, p.s_xyz(xValue, yValue, zValue))\n",
    "        end\n",
    "    end\n",
    "    end\n",
    "\n",
    "    itp = interpolate(p.nodes_xyz, V_old, Gridded(Linear()))\n",
    "    etp = extrapolate(itp, Line())\n",
    "    V_old_interpolated = (x) -> etp(x[1], x[2], x[3])\n",
    "\n",
    "    # Initialize\n",
    "    for i = 1:max_iter\n",
    "\n",
    "        for (zIndex, zValue) in enumerate(p.z_grid)\n",
    "            for (yIndex, yValue) in enumerate(p.y_grid)\n",
    "                for (xIndex, xValue) in enumerate(p.x_grid)\n",
    "                    V_new[xIndex, yIndex, zIndex] = p.s_xyz(xValue, yValue, zValue) + ((1.0 - p.delta)/(1.0 + p.r)).*sum(p.weigths_E.*[max.(0.0, V_old_interpolated([xValue; yValue; (zValue.^p.rho).*exp.(innovation)])) for innovation in p.nodes_E])\n",
    "                end\n",
    "            end\n",
    "        end\n",
    "\n",
    "        # DISTANCE\n",
    "        diff= maximum(abs.(V_new .- V_old))\n",
    "        if mod(i, show_every) == 0\n",
    "            println(\"Iter $(i) Diff : $(diff)\")\n",
    "        end\n",
    "\n",
    "        if diff < tol\n",
    "            println(\"Iter $(i) Convergence reached\")\n",
    "            break\n",
    "        end\n",
    "\n",
    "        #UPDATE\n",
    "        V_old = copy(V_new)\n",
    "        itp = interpolate(p.nodes_xyz, V_old, Gridded(Linear()))\n",
    "        etp = extrapolate(itp, Line())\n",
    "        V_old_interpolated = (x) -> etp(x[1], x[2], x[3])\n",
    "\n",
    "    end\n",
    "\n",
    "    # Return value function\n",
    "    return V_old_interpolated\n",
    "    \n",
    "end\n",
    "\n"
   ]
  },
  {
   "cell_type": "markdown",
   "id": "ee916fc8",
   "metadata": {},
   "source": [
    "### Tasmanian.jl"
   ]
  },
  {
   "cell_type": "code",
   "execution_count": 4,
   "id": "599fb6a1",
   "metadata": {},
   "outputs": [
    {
     "data": {
      "text/plain": [
       "create_grid (generic function with 1 method)"
      ]
     },
     "execution_count": 4,
     "metadata": {},
     "output_type": "execute_result"
    }
   ],
   "source": [
    "#remove duplicate rows from matrix\n",
    "function remove_dup(A)\n",
    "    Matrix(unique(DataFrame(A, :auto)))\n",
    "end\n",
    "\n",
    "#Function to create a sparse grid by accumulating successively refined grids\n",
    "#and getting rid of duplicate points\n",
    "function create_grid(f::Function; iDim = 2, iOut = 1, iDepth = 4, iOrder = 1, tol = 0.01, domain = [0 1.0; 0 1],\n",
    "                    K::Int = 5, sRule=\"localp\", sCriteria=\"classic\", max_points = Inf)\n",
    "    \n",
    "    # initial grid\n",
    "    list_grids = []\n",
    "    tsg = Tasmanian.TasmanianSG(iDim, iOut, iDepth)\n",
    "    Tasmanian.makeLocalPolynomialGrid!(tsg, iOrder=iOrder, sRule=sRule)\n",
    "    Tasmanian.setDomainTransform!(tsg, domain)\n",
    "    # sparse grid points from that object\n",
    "    spPoints = Tasmanian.getPoints(tsg)\n",
    "    # values on sparse grid\n",
    "    spVals = [f(Array(spPoints[i,:])) for i in 1:size(spPoints,1)]\n",
    "    # load points needed for such values\n",
    "    Tasmanian.loadNeededPoints!(tsg, spVals)\n",
    "    push!(list_grids, spPoints)\n",
    "    \n",
    "    # refinement loop\n",
    "    max_nb_points = zeros(Int, 1)\n",
    "    for k = 1:K\n",
    "        Tasmanian.setSurplusRefinement!(tsg, tol, sCriteria=sCriteria)\n",
    "        sparse_points_refined = Tasmanian.getNeededPoints(tsg)\n",
    "        # Check if more points needed\n",
    "        if Tasmanian.getNumNeeded(tsg) == 0\n",
    "            break\n",
    "        end\n",
    "        sparse_vals_refined = [f(Array(sparse_points_refined[i,:])) for i in 1:size(sparse_points_refined, 1)]\n",
    "        # load points needed for such values\n",
    "        Tasmanian.loadNeededPoints!(tsg, sparse_vals_refined)\n",
    "        # Append \n",
    "        push!(list_grids, sparse_points_refined)\n",
    "        max_nb_points[1] += size(list_grids[k], 1)\n",
    "        if max_nb_points[1] >= max_points\n",
    "            break\n",
    "        end\n",
    "    end\n",
    "        \n",
    "    final_grid = list_grids[1]\n",
    "    for i=2:length(list_grids)\n",
    "        final_grid = vcat(final_grid, list_grids[i])\n",
    "    end\n",
    "    \n",
    "    return(remove_dup(final_grid))\n",
    "    \n",
    "end"
   ]
  },
  {
   "cell_type": "markdown",
   "id": "ef7359e8",
   "metadata": {},
   "source": [
    "### AdaptiveSparseGrids\n",
    "\n",
    "Function to extract the grid"
   ]
  },
  {
   "cell_type": "code",
   "execution_count": 5,
   "id": "66a71f68",
   "metadata": {},
   "outputs": [
    {
     "data": {
      "text/plain": [
       "extract_grid (generic function with 1 method)"
      ]
     },
     "execution_count": 5,
     "metadata": {},
     "output_type": "execute_result"
    }
   ],
   "source": [
    "using AdaptiveSparseGrids\n",
    "\n",
    "function extract_grid(fun)\n",
    "    \n",
    "    \"\"\"\n",
    "    Function to extract the sparse grid from an AdaptiveSparseGrid object.\n",
    "    Returns a matrix with row = observation, column = dimension\n",
    "    \"\"\"\n",
    "    nb_dim = length(fun.nodes[first(keys(fun.nodes))].x)\n",
    "    grid = zeros(length(keys(fun.nodes)), nb_dim)\n",
    "\n",
    "    for (index_key, key) in enumerate(keys(fun.nodes))\n",
    "        for i = 1:nb_dim\n",
    "            grid[index_key, i] = fun.nodes[key].x[i]   \n",
    "        end\n",
    "    end\n",
    "    \n",
    "    # Need to rescale \n",
    "    grid = transpose(fun.bounds[:, 1] .+ transpose(grid).*(fun.bounds[:,2] - fun.bounds[:,1]))\n",
    "    \n",
    "    return grid\n",
    "    \n",
    "end\n"
   ]
  }
 ],
 "metadata": {
  "kernelspec": {
   "display_name": "Julia (4 threads) 1.7.1",
   "language": "julia",
   "name": "julia-(4-threads)-1.7"
  },
  "language_info": {
   "file_extension": ".jl",
   "mimetype": "application/julia",
   "name": "julia",
   "version": "1.7.1"
  }
 },
 "nbformat": 4,
 "nbformat_minor": 5
}
